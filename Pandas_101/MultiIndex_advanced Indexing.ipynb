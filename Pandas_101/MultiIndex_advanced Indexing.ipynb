{
 "cells": [
  {
   "cell_type": "code",
   "execution_count": 1,
   "metadata": {},
   "outputs": [],
   "source": [
    "import pandas as pd\n",
    "import numpy as np"
   ]
  },
  {
   "cell_type": "markdown",
   "metadata": {},
   "source": [
    "# MultiIndex / advanced indexing"
   ]
  },
  {
   "cell_type": "markdown",
   "metadata": {},
   "source": [
    "## 1. Hierarchical indexing (MultiIndex)"
   ]
  },
  {
   "cell_type": "markdown",
   "metadata": {},
   "source": [
    "Hierarchical/ Multi-level indexing is very exciting as it ipens the door to some quite sophisticated data analysis and manipulation, especially for working with higher dimensional data. In essence, it enables you to store and manipulate data with an arbitrary number of dimensions in lower dimensional data structures like `series` and `DataFrame`.\n"
   ]
  },
  {
   "cell_type": "markdown",
   "metadata": {},
   "source": [
    "In this section, we will show what exactly we mean by 'hierarchical' indexing and how it integrates with all of the pandas indexing functionality described above nd in prior sections. Later, when discussing `groupby` and `pivoting` and `reshaping` data, we'll show non-trivial applications to illustrate how it aids in structuring data for analysis."
   ]
  },
  {
   "cell_type": "markdown",
   "metadata": {},
   "source": [
    "See the cookbook for some advaced strategies."
   ]
  },
  {
   "cell_type": "markdown",
   "metadata": {},
   "source": [
    "### Creating a MultiIndex (hierarchial index) object"
   ]
  },
  {
   "cell_type": "markdown",
   "metadata": {},
   "source": [
    "The `MultiIndex` object is the hierarchical analogue of the standard `Index` object which typically stores the axis labels in pandas objects. You can think of `MultiIndex` as an array of tuples where each tuple is unique. A `MultiIndex` can be created from a list of arrays (using `MultiIndex.from_arrays()`), an array of tuples (using `MultiIndex.from_tuples()`), a crossed set of iterables (using `MultiIndex.from_product()`), or a `DataFrame` (using `MultiIndex.from_frame()`). The `Index` constructor will attempt to return a `MultiIndex` when it is passed a list of tuples. The following examples demonstrate different ways to initialize MultiIndexes."
   ]
  },
  {
   "cell_type": "code",
   "execution_count": 2,
   "metadata": {},
   "outputs": [
    {
     "data": {
      "text/plain": [
       "MultiIndex([('국고', '단기'),\n",
       "            ('국고', '장기'),\n",
       "            ('산금', '단기'),\n",
       "            ('산금', '장기'),\n",
       "            ('중금', '단기'),\n",
       "            ('중금', '장기'),\n",
       "            ('시은', '단기'),\n",
       "            ('시은', '장기')],\n",
       "           names=['first', 'second'])"
      ]
     },
     "execution_count": 2,
     "metadata": {},
     "output_type": "execute_result"
    }
   ],
   "source": [
    "#FROM AN ARRAY OF TUPLES\n",
    "arrays = [['국고', '국고', '산금', '산금', '중금', '중금', '시은', '시은'],\n",
    "          ['단기', '장기', '단기', '장기', '단기', '장기', '단기', '장기']]\n",
    "tuples = list(zip(*arrays))\n",
    "index = pd.MultiIndex.from_tuples(tuples, names = ['first', 'second'])\n",
    "index"
   ]
  },
  {
   "cell_type": "code",
   "execution_count": 3,
   "metadata": {},
   "outputs": [
    {
     "data": {
      "text/plain": [
       "first  second\n",
       "국고     단기       -1.037331\n",
       "       장기        1.534210\n",
       "산금     단기       -1.478862\n",
       "       장기       -1.099519\n",
       "중금     단기       -0.872887\n",
       "       장기       -1.895303\n",
       "시은     단기        0.396818\n",
       "       장기        0.194559\n",
       "dtype: float64"
      ]
     },
     "execution_count": 3,
     "metadata": {},
     "output_type": "execute_result"
    }
   ],
   "source": [
    "s= pd.Series(np.random.randn(8), index = index)\n",
    "s"
   ]
  },
  {
   "cell_type": "markdown",
   "metadata": {},
   "source": [
    "When you want _every pairing_ of the elements in two iterables, it can be easier to use the `MultiIndex.from_product()` method:"
   ]
  },
  {
   "cell_type": "code",
   "execution_count": 4,
   "metadata": {},
   "outputs": [],
   "source": [
    "#FROM A PRODUCT OF ITERABLES\n",
    "iters = [  ['국고', '산금', '시은', '공사'], ['단기', '장기']  ]"
   ]
  },
  {
   "cell_type": "code",
   "execution_count": 5,
   "metadata": {},
   "outputs": [
    {
     "data": {
      "text/plain": [
       "MultiIndex([('국고', '단기'),\n",
       "            ('국고', '장기'),\n",
       "            ('산금', '단기'),\n",
       "            ('산금', '장기'),\n",
       "            ('시은', '단기'),\n",
       "            ('시은', '장기'),\n",
       "            ('공사', '단기'),\n",
       "            ('공사', '장기')],\n",
       "           names=['first', 'second'])"
      ]
     },
     "execution_count": 5,
     "metadata": {},
     "output_type": "execute_result"
    }
   ],
   "source": [
    "pd.MultiIndex.from_product(iters, names=['first', 'second'])"
   ]
  },
  {
   "cell_type": "markdown",
   "metadata": {},
   "source": [
    "You can also construct a `MultiIndex` from a `DataFrame` directly, using the method `MultiIndex.from_frame()`. This is a complementary method to `MultiIndex.to_frame()`."
   ]
  },
  {
   "cell_type": "code",
   "execution_count": 6,
   "metadata": {},
   "outputs": [
    {
     "data": {
      "text/plain": [
       "MultiIndex([('국고', '단기'),\n",
       "            ('국고', '장기'),\n",
       "            ('산금', '단기'),\n",
       "            ('산금', '장기')],\n",
       "           names=['first', 'second'])"
      ]
     },
     "execution_count": 6,
     "metadata": {},
     "output_type": "execute_result"
    }
   ],
   "source": [
    "#FROM DF\n",
    "df = pd.DataFrame([['국고','단기'], ['국고', '장기'],\n",
    "                   ['산금', '단기'],['산금', '장기']],\n",
    "                  columns = ['first', 'second'])\n",
    "pd.MultiIndex.from_frame(df)"
   ]
  },
  {
   "cell_type": "markdown",
   "metadata": {},
   "source": [
    "As a convenience, you can pass a list of arrays directly into Series or DataFrame to construct a `MultiIndex` **automatically**:\n"
   ]
  },
  {
   "cell_type": "code",
   "execution_count": 7,
   "metadata": {},
   "outputs": [],
   "source": [
    "arrays = [np.array(['국고', '국고', '산금', '산금', '중금', '중금', '시은', '시은']),\n",
    "          np.array(['단기', '장기', '단기', '장기', '단기', '장기', '단기', '장기'])]\n"
   ]
  },
  {
   "cell_type": "code",
   "execution_count": 8,
   "metadata": {},
   "outputs": [
    {
     "data": {
      "text/plain": [
       "국고  단기   -1.700901\n",
       "    장기   -0.185789\n",
       "산금  단기    0.286530\n",
       "    장기    1.896629\n",
       "중금  단기   -0.735264\n",
       "    장기    1.718560\n",
       "시은  단기    1.067562\n",
       "    장기   -0.682318\n",
       "dtype: float64"
      ]
     },
     "execution_count": 8,
     "metadata": {},
     "output_type": "execute_result"
    }
   ],
   "source": [
    "s = pd.Series(np.random.randn(8), index=arrays)\n",
    "s"
   ]
  },
  {
   "cell_type": "code",
   "execution_count": 9,
   "metadata": {},
   "outputs": [],
   "source": [
    "df = pd.DataFrame(np.random.randn(8,4), index=arrays)"
   ]
  },
  {
   "cell_type": "code",
   "execution_count": 10,
   "metadata": {},
   "outputs": [
    {
     "data": {
      "text/html": [
       "<div>\n",
       "<style scoped>\n",
       "    .dataframe tbody tr th:only-of-type {\n",
       "        vertical-align: middle;\n",
       "    }\n",
       "\n",
       "    .dataframe tbody tr th {\n",
       "        vertical-align: top;\n",
       "    }\n",
       "\n",
       "    .dataframe thead th {\n",
       "        text-align: right;\n",
       "    }\n",
       "</style>\n",
       "<table border=\"1\" class=\"dataframe\">\n",
       "  <thead>\n",
       "    <tr style=\"text-align: right;\">\n",
       "      <th></th>\n",
       "      <th></th>\n",
       "      <th>0</th>\n",
       "      <th>1</th>\n",
       "      <th>2</th>\n",
       "      <th>3</th>\n",
       "    </tr>\n",
       "  </thead>\n",
       "  <tbody>\n",
       "    <tr>\n",
       "      <td rowspan=\"2\" valign=\"top\">국고</td>\n",
       "      <td>단기</td>\n",
       "      <td>0.611997</td>\n",
       "      <td>-0.757712</td>\n",
       "      <td>0.723357</td>\n",
       "      <td>1.368304</td>\n",
       "    </tr>\n",
       "    <tr>\n",
       "      <td>장기</td>\n",
       "      <td>-1.374384</td>\n",
       "      <td>-1.746542</td>\n",
       "      <td>0.752819</td>\n",
       "      <td>-2.142924</td>\n",
       "    </tr>\n",
       "    <tr>\n",
       "      <td rowspan=\"2\" valign=\"top\">산금</td>\n",
       "      <td>단기</td>\n",
       "      <td>1.240711</td>\n",
       "      <td>-1.699241</td>\n",
       "      <td>0.646897</td>\n",
       "      <td>-0.876645</td>\n",
       "    </tr>\n",
       "    <tr>\n",
       "      <td>장기</td>\n",
       "      <td>-2.119474</td>\n",
       "      <td>0.560222</td>\n",
       "      <td>0.534343</td>\n",
       "      <td>0.694694</td>\n",
       "    </tr>\n",
       "    <tr>\n",
       "      <td rowspan=\"2\" valign=\"top\">중금</td>\n",
       "      <td>단기</td>\n",
       "      <td>0.776006</td>\n",
       "      <td>-0.373566</td>\n",
       "      <td>0.562785</td>\n",
       "      <td>-0.150195</td>\n",
       "    </tr>\n",
       "    <tr>\n",
       "      <td>장기</td>\n",
       "      <td>-0.581905</td>\n",
       "      <td>1.326178</td>\n",
       "      <td>0.653509</td>\n",
       "      <td>0.797515</td>\n",
       "    </tr>\n",
       "    <tr>\n",
       "      <td rowspan=\"2\" valign=\"top\">시은</td>\n",
       "      <td>단기</td>\n",
       "      <td>1.588489</td>\n",
       "      <td>-1.734855</td>\n",
       "      <td>0.544505</td>\n",
       "      <td>-0.182831</td>\n",
       "    </tr>\n",
       "    <tr>\n",
       "      <td>장기</td>\n",
       "      <td>1.764950</td>\n",
       "      <td>0.736577</td>\n",
       "      <td>1.144645</td>\n",
       "      <td>-0.050560</td>\n",
       "    </tr>\n",
       "  </tbody>\n",
       "</table>\n",
       "</div>"
      ],
      "text/plain": [
       "              0         1         2         3\n",
       "국고 단기  0.611997 -0.757712  0.723357  1.368304\n",
       "   장기 -1.374384 -1.746542  0.752819 -2.142924\n",
       "산금 단기  1.240711 -1.699241  0.646897 -0.876645\n",
       "   장기 -2.119474  0.560222  0.534343  0.694694\n",
       "중금 단기  0.776006 -0.373566  0.562785 -0.150195\n",
       "   장기 -0.581905  1.326178  0.653509  0.797515\n",
       "시은 단기  1.588489 -1.734855  0.544505 -0.182831\n",
       "   장기  1.764950  0.736577  1.144645 -0.050560"
      ]
     },
     "execution_count": 10,
     "metadata": {},
     "output_type": "execute_result"
    }
   ],
   "source": [
    "df"
   ]
  },
  {
   "cell_type": "markdown",
   "metadata": {},
   "source": [
    "All of the `MultiIndex` constructors accept a `names` arg. which stores string names for the levels themselves. If no names are provided, `None` will be assigned"
   ]
  },
  {
   "cell_type": "code",
   "execution_count": 11,
   "metadata": {},
   "outputs": [
    {
     "data": {
      "text/plain": [
       "FrozenList([None, None])"
      ]
     },
     "execution_count": 11,
     "metadata": {},
     "output_type": "execute_result"
    }
   ],
   "source": [
    "df.index.names"
   ]
  },
  {
   "cell_type": "code",
   "execution_count": 12,
   "metadata": {},
   "outputs": [],
   "source": [
    "df.index.names = ['섹터','만기']"
   ]
  },
  {
   "cell_type": "code",
   "execution_count": 13,
   "metadata": {},
   "outputs": [
    {
     "data": {
      "text/html": [
       "<div>\n",
       "<style scoped>\n",
       "    .dataframe tbody tr th:only-of-type {\n",
       "        vertical-align: middle;\n",
       "    }\n",
       "\n",
       "    .dataframe tbody tr th {\n",
       "        vertical-align: top;\n",
       "    }\n",
       "\n",
       "    .dataframe thead th {\n",
       "        text-align: right;\n",
       "    }\n",
       "</style>\n",
       "<table border=\"1\" class=\"dataframe\">\n",
       "  <thead>\n",
       "    <tr style=\"text-align: right;\">\n",
       "      <th></th>\n",
       "      <th></th>\n",
       "      <th>0</th>\n",
       "      <th>1</th>\n",
       "      <th>2</th>\n",
       "      <th>3</th>\n",
       "    </tr>\n",
       "    <tr>\n",
       "      <th>섹터</th>\n",
       "      <th>만기</th>\n",
       "      <th></th>\n",
       "      <th></th>\n",
       "      <th></th>\n",
       "      <th></th>\n",
       "    </tr>\n",
       "  </thead>\n",
       "  <tbody>\n",
       "    <tr>\n",
       "      <td rowspan=\"2\" valign=\"top\">국고</td>\n",
       "      <td>단기</td>\n",
       "      <td>0.611997</td>\n",
       "      <td>-0.757712</td>\n",
       "      <td>0.723357</td>\n",
       "      <td>1.368304</td>\n",
       "    </tr>\n",
       "    <tr>\n",
       "      <td>장기</td>\n",
       "      <td>-1.374384</td>\n",
       "      <td>-1.746542</td>\n",
       "      <td>0.752819</td>\n",
       "      <td>-2.142924</td>\n",
       "    </tr>\n",
       "    <tr>\n",
       "      <td rowspan=\"2\" valign=\"top\">산금</td>\n",
       "      <td>단기</td>\n",
       "      <td>1.240711</td>\n",
       "      <td>-1.699241</td>\n",
       "      <td>0.646897</td>\n",
       "      <td>-0.876645</td>\n",
       "    </tr>\n",
       "    <tr>\n",
       "      <td>장기</td>\n",
       "      <td>-2.119474</td>\n",
       "      <td>0.560222</td>\n",
       "      <td>0.534343</td>\n",
       "      <td>0.694694</td>\n",
       "    </tr>\n",
       "    <tr>\n",
       "      <td rowspan=\"2\" valign=\"top\">중금</td>\n",
       "      <td>단기</td>\n",
       "      <td>0.776006</td>\n",
       "      <td>-0.373566</td>\n",
       "      <td>0.562785</td>\n",
       "      <td>-0.150195</td>\n",
       "    </tr>\n",
       "    <tr>\n",
       "      <td>장기</td>\n",
       "      <td>-0.581905</td>\n",
       "      <td>1.326178</td>\n",
       "      <td>0.653509</td>\n",
       "      <td>0.797515</td>\n",
       "    </tr>\n",
       "    <tr>\n",
       "      <td rowspan=\"2\" valign=\"top\">시은</td>\n",
       "      <td>단기</td>\n",
       "      <td>1.588489</td>\n",
       "      <td>-1.734855</td>\n",
       "      <td>0.544505</td>\n",
       "      <td>-0.182831</td>\n",
       "    </tr>\n",
       "    <tr>\n",
       "      <td>장기</td>\n",
       "      <td>1.764950</td>\n",
       "      <td>0.736577</td>\n",
       "      <td>1.144645</td>\n",
       "      <td>-0.050560</td>\n",
       "    </tr>\n",
       "  </tbody>\n",
       "</table>\n",
       "</div>"
      ],
      "text/plain": [
       "              0         1         2         3\n",
       "섹터 만기                                        \n",
       "국고 단기  0.611997 -0.757712  0.723357  1.368304\n",
       "   장기 -1.374384 -1.746542  0.752819 -2.142924\n",
       "산금 단기  1.240711 -1.699241  0.646897 -0.876645\n",
       "   장기 -2.119474  0.560222  0.534343  0.694694\n",
       "중금 단기  0.776006 -0.373566  0.562785 -0.150195\n",
       "   장기 -0.581905  1.326178  0.653509  0.797515\n",
       "시은 단기  1.588489 -1.734855  0.544505 -0.182831\n",
       "   장기  1.764950  0.736577  1.144645 -0.050560"
      ]
     },
     "execution_count": 13,
     "metadata": {},
     "output_type": "execute_result"
    }
   ],
   "source": [
    "df"
   ]
  },
  {
   "cell_type": "markdown",
   "metadata": {},
   "source": [
    "This index can back any axis of a pandas object, and the number of **levels** of the index is up to you:"
   ]
  },
  {
   "cell_type": "code",
   "execution_count": 14,
   "metadata": {},
   "outputs": [
    {
     "data": {
      "text/html": [
       "<div>\n",
       "<style scoped>\n",
       "    .dataframe tbody tr th:only-of-type {\n",
       "        vertical-align: middle;\n",
       "    }\n",
       "\n",
       "    .dataframe tbody tr th {\n",
       "        vertical-align: top;\n",
       "    }\n",
       "\n",
       "    .dataframe thead tr th {\n",
       "        text-align: left;\n",
       "    }\n",
       "</style>\n",
       "<table border=\"1\" class=\"dataframe\">\n",
       "  <thead>\n",
       "    <tr>\n",
       "      <th>first</th>\n",
       "      <th colspan=\"2\" halign=\"left\">국고</th>\n",
       "      <th colspan=\"2\" halign=\"left\">산금</th>\n",
       "      <th colspan=\"2\" halign=\"left\">중금</th>\n",
       "      <th colspan=\"2\" halign=\"left\">시은</th>\n",
       "    </tr>\n",
       "    <tr>\n",
       "      <th>second</th>\n",
       "      <th>단기</th>\n",
       "      <th>장기</th>\n",
       "      <th>단기</th>\n",
       "      <th>장기</th>\n",
       "      <th>단기</th>\n",
       "      <th>장기</th>\n",
       "      <th>단기</th>\n",
       "      <th>장기</th>\n",
       "    </tr>\n",
       "  </thead>\n",
       "  <tbody>\n",
       "    <tr>\n",
       "      <td>A</td>\n",
       "      <td>-0.876667</td>\n",
       "      <td>0.966092</td>\n",
       "      <td>1.120699</td>\n",
       "      <td>-0.445573</td>\n",
       "      <td>-0.725877</td>\n",
       "      <td>-0.829777</td>\n",
       "      <td>1.980688</td>\n",
       "      <td>-2.445532</td>\n",
       "    </tr>\n",
       "    <tr>\n",
       "      <td>B</td>\n",
       "      <td>-0.503500</td>\n",
       "      <td>-0.880040</td>\n",
       "      <td>-0.206314</td>\n",
       "      <td>-1.258661</td>\n",
       "      <td>-1.345779</td>\n",
       "      <td>-0.528776</td>\n",
       "      <td>-1.555450</td>\n",
       "      <td>-0.741435</td>\n",
       "    </tr>\n",
       "    <tr>\n",
       "      <td>C</td>\n",
       "      <td>1.718268</td>\n",
       "      <td>2.243557</td>\n",
       "      <td>0.545362</td>\n",
       "      <td>2.008662</td>\n",
       "      <td>0.121040</td>\n",
       "      <td>-0.198562</td>\n",
       "      <td>0.253164</td>\n",
       "      <td>0.085287</td>\n",
       "    </tr>\n",
       "  </tbody>\n",
       "</table>\n",
       "</div>"
      ],
      "text/plain": [
       "first         국고                  산금                  중금                  시은  \\\n",
       "second        단기        장기        단기        장기        단기        장기        단기   \n",
       "A      -0.876667  0.966092  1.120699 -0.445573 -0.725877 -0.829777  1.980688   \n",
       "B      -0.503500 -0.880040 -0.206314 -1.258661 -1.345779 -0.528776 -1.555450   \n",
       "C       1.718268  2.243557  0.545362  2.008662  0.121040 -0.198562  0.253164   \n",
       "\n",
       "first             \n",
       "second        장기  \n",
       "A      -2.445532  \n",
       "B      -0.741435  \n",
       "C       0.085287  "
      ]
     },
     "execution_count": 14,
     "metadata": {},
     "output_type": "execute_result"
    }
   ],
   "source": [
    "df = pd.DataFrame(np.random.randn(3,8), index=['A','B','C'], columns=index)\n",
    "df"
   ]
  },
  {
   "cell_type": "code",
   "execution_count": 15,
   "metadata": {},
   "outputs": [
    {
     "data": {
      "text/html": [
       "<div>\n",
       "<style scoped>\n",
       "    .dataframe tbody tr th:only-of-type {\n",
       "        vertical-align: middle;\n",
       "    }\n",
       "\n",
       "    .dataframe tbody tr th {\n",
       "        vertical-align: top;\n",
       "    }\n",
       "\n",
       "    .dataframe thead tr th {\n",
       "        text-align: left;\n",
       "    }\n",
       "\n",
       "    .dataframe thead tr:last-of-type th {\n",
       "        text-align: right;\n",
       "    }\n",
       "</style>\n",
       "<table border=\"1\" class=\"dataframe\">\n",
       "  <thead>\n",
       "    <tr>\n",
       "      <th></th>\n",
       "      <th>first</th>\n",
       "      <th colspan=\"2\" halign=\"left\">국고</th>\n",
       "      <th colspan=\"2\" halign=\"left\">산금</th>\n",
       "      <th colspan=\"2\" halign=\"left\">중금</th>\n",
       "    </tr>\n",
       "    <tr>\n",
       "      <th></th>\n",
       "      <th>second</th>\n",
       "      <th>단기</th>\n",
       "      <th>장기</th>\n",
       "      <th>단기</th>\n",
       "      <th>장기</th>\n",
       "      <th>단기</th>\n",
       "      <th>장기</th>\n",
       "    </tr>\n",
       "    <tr>\n",
       "      <th>first</th>\n",
       "      <th>second</th>\n",
       "      <th></th>\n",
       "      <th></th>\n",
       "      <th></th>\n",
       "      <th></th>\n",
       "      <th></th>\n",
       "      <th></th>\n",
       "    </tr>\n",
       "  </thead>\n",
       "  <tbody>\n",
       "    <tr>\n",
       "      <td rowspan=\"2\" valign=\"top\">국고</td>\n",
       "      <td>단기</td>\n",
       "      <td>0.709946</td>\n",
       "      <td>-1.092728</td>\n",
       "      <td>-0.531883</td>\n",
       "      <td>-0.558539</td>\n",
       "      <td>0.189125</td>\n",
       "      <td>1.582518</td>\n",
       "    </tr>\n",
       "    <tr>\n",
       "      <td>장기</td>\n",
       "      <td>0.462457</td>\n",
       "      <td>-0.563833</td>\n",
       "      <td>0.498153</td>\n",
       "      <td>0.402449</td>\n",
       "      <td>-0.098995</td>\n",
       "      <td>-0.203256</td>\n",
       "    </tr>\n",
       "    <tr>\n",
       "      <td rowspan=\"2\" valign=\"top\">산금</td>\n",
       "      <td>단기</td>\n",
       "      <td>-2.034993</td>\n",
       "      <td>-0.592813</td>\n",
       "      <td>-0.756421</td>\n",
       "      <td>0.047621</td>\n",
       "      <td>-1.031217</td>\n",
       "      <td>-0.849764</td>\n",
       "    </tr>\n",
       "    <tr>\n",
       "      <td>장기</td>\n",
       "      <td>1.385972</td>\n",
       "      <td>1.163836</td>\n",
       "      <td>0.066959</td>\n",
       "      <td>0.649704</td>\n",
       "      <td>-0.517988</td>\n",
       "      <td>-0.844008</td>\n",
       "    </tr>\n",
       "    <tr>\n",
       "      <td rowspan=\"2\" valign=\"top\">중금</td>\n",
       "      <td>단기</td>\n",
       "      <td>1.077053</td>\n",
       "      <td>-1.271880</td>\n",
       "      <td>-1.694384</td>\n",
       "      <td>-1.360082</td>\n",
       "      <td>-0.035053</td>\n",
       "      <td>2.135580</td>\n",
       "    </tr>\n",
       "    <tr>\n",
       "      <td>장기</td>\n",
       "      <td>2.060234</td>\n",
       "      <td>0.134447</td>\n",
       "      <td>0.526642</td>\n",
       "      <td>1.720946</td>\n",
       "      <td>0.182323</td>\n",
       "      <td>1.501125</td>\n",
       "    </tr>\n",
       "  </tbody>\n",
       "</table>\n",
       "</div>"
      ],
      "text/plain": [
       "first               국고                  산금                  중금          \n",
       "second              단기        장기        단기        장기        단기        장기\n",
       "first second                                                            \n",
       "국고    단기      0.709946 -1.092728 -0.531883 -0.558539  0.189125  1.582518\n",
       "      장기      0.462457 -0.563833  0.498153  0.402449 -0.098995 -0.203256\n",
       "산금    단기     -2.034993 -0.592813 -0.756421  0.047621 -1.031217 -0.849764\n",
       "      장기      1.385972  1.163836  0.066959  0.649704 -0.517988 -0.844008\n",
       "중금    단기      1.077053 -1.271880 -1.694384 -1.360082 -0.035053  2.135580\n",
       "      장기      2.060234  0.134447  0.526642  1.720946  0.182323  1.501125"
      ]
     },
     "execution_count": 15,
     "metadata": {},
     "output_type": "execute_result"
    }
   ],
   "source": [
    "pd.DataFrame(np.random.randn(6,6), index=index[:6], columns=index[:6])"
   ]
  },
  {
   "cell_type": "markdown",
   "metadata": {},
   "source": [
    "We’ve “sparsified” the higher levels of the indexes to make the console output a bit easier on the eyes. Note that how the index is displayed can be controlled using the `multi_sparse` option in `pandas.set_options()`:"
   ]
  },
  {
   "cell_type": "code",
   "execution_count": 16,
   "metadata": {},
   "outputs": [],
   "source": [
    "with pd.option_context('display.multi_sparse', False):\n",
    "    df"
   ]
  },
  {
   "cell_type": "code",
   "execution_count": 17,
   "metadata": {},
   "outputs": [
    {
     "data": {
      "text/html": [
       "<div>\n",
       "<style scoped>\n",
       "    .dataframe tbody tr th:only-of-type {\n",
       "        vertical-align: middle;\n",
       "    }\n",
       "\n",
       "    .dataframe tbody tr th {\n",
       "        vertical-align: top;\n",
       "    }\n",
       "\n",
       "    .dataframe thead tr th {\n",
       "        text-align: left;\n",
       "    }\n",
       "</style>\n",
       "<table border=\"1\" class=\"dataframe\">\n",
       "  <thead>\n",
       "    <tr>\n",
       "      <th>first</th>\n",
       "      <th colspan=\"2\" halign=\"left\">국고</th>\n",
       "      <th colspan=\"2\" halign=\"left\">산금</th>\n",
       "      <th colspan=\"2\" halign=\"left\">중금</th>\n",
       "      <th colspan=\"2\" halign=\"left\">시은</th>\n",
       "    </tr>\n",
       "    <tr>\n",
       "      <th>second</th>\n",
       "      <th>단기</th>\n",
       "      <th>장기</th>\n",
       "      <th>단기</th>\n",
       "      <th>장기</th>\n",
       "      <th>단기</th>\n",
       "      <th>장기</th>\n",
       "      <th>단기</th>\n",
       "      <th>장기</th>\n",
       "    </tr>\n",
       "  </thead>\n",
       "  <tbody>\n",
       "    <tr>\n",
       "      <td>A</td>\n",
       "      <td>-0.876667</td>\n",
       "      <td>0.966092</td>\n",
       "      <td>1.120699</td>\n",
       "      <td>-0.445573</td>\n",
       "      <td>-0.725877</td>\n",
       "      <td>-0.829777</td>\n",
       "      <td>1.980688</td>\n",
       "      <td>-2.445532</td>\n",
       "    </tr>\n",
       "    <tr>\n",
       "      <td>B</td>\n",
       "      <td>-0.503500</td>\n",
       "      <td>-0.880040</td>\n",
       "      <td>-0.206314</td>\n",
       "      <td>-1.258661</td>\n",
       "      <td>-1.345779</td>\n",
       "      <td>-0.528776</td>\n",
       "      <td>-1.555450</td>\n",
       "      <td>-0.741435</td>\n",
       "    </tr>\n",
       "    <tr>\n",
       "      <td>C</td>\n",
       "      <td>1.718268</td>\n",
       "      <td>2.243557</td>\n",
       "      <td>0.545362</td>\n",
       "      <td>2.008662</td>\n",
       "      <td>0.121040</td>\n",
       "      <td>-0.198562</td>\n",
       "      <td>0.253164</td>\n",
       "      <td>0.085287</td>\n",
       "    </tr>\n",
       "  </tbody>\n",
       "</table>\n",
       "</div>"
      ],
      "text/plain": [
       "first         국고                  산금                  중금                  시은  \\\n",
       "second        단기        장기        단기        장기        단기        장기        단기   \n",
       "A      -0.876667  0.966092  1.120699 -0.445573 -0.725877 -0.829777  1.980688   \n",
       "B      -0.503500 -0.880040 -0.206314 -1.258661 -1.345779 -0.528776 -1.555450   \n",
       "C       1.718268  2.243557  0.545362  2.008662  0.121040 -0.198562  0.253164   \n",
       "\n",
       "first             \n",
       "second        장기  \n",
       "A      -2.445532  \n",
       "B      -0.741435  \n",
       "C       0.085287  "
      ]
     },
     "execution_count": 17,
     "metadata": {},
     "output_type": "execute_result"
    }
   ],
   "source": [
    "df"
   ]
  },
  {
   "cell_type": "markdown",
   "metadata": {},
   "source": [
    "It’s worth keeping in mind that there’s nothing preventing you from using tuples as atomic labels on an axis:"
   ]
  },
  {
   "cell_type": "code",
   "execution_count": 18,
   "metadata": {},
   "outputs": [
    {
     "data": {
      "text/plain": [
       "(국고, 단기)   -0.418815\n",
       "(국고, 장기)    0.441065\n",
       "(산금, 단기)    0.768435\n",
       "(산금, 장기)   -1.066626\n",
       "(중금, 단기)   -1.350763\n",
       "(중금, 장기)   -0.853563\n",
       "(시은, 단기)   -0.844003\n",
       "(시은, 장기)    0.579016\n",
       "dtype: float64"
      ]
     },
     "execution_count": 18,
     "metadata": {},
     "output_type": "execute_result"
    }
   ],
   "source": [
    "pd.Series(np.random.randn(8), index=tuples)"
   ]
  },
  {
   "cell_type": "code",
   "execution_count": 19,
   "metadata": {},
   "outputs": [
    {
     "data": {
      "text/plain": [
       "first  second\n",
       "국고     단기       -0.442064\n",
       "       장기       -0.244117\n",
       "산금     단기        0.042039\n",
       "       장기        0.739813\n",
       "중금     단기        0.750014\n",
       "       장기       -1.202049\n",
       "시은     단기        2.035856\n",
       "       장기       -1.749841\n",
       "dtype: float64"
      ]
     },
     "execution_count": 19,
     "metadata": {},
     "output_type": "execute_result"
    }
   ],
   "source": [
    "pd.Series(np.random.randn(8), index=pd.MultiIndex.from_tuples(tuples, names=['first','second']))"
   ]
  },
  {
   "cell_type": "markdown",
   "metadata": {},
   "source": [
    "The reason that the MultiIndex matters is that it can allow you to do grouping, selection, and reshaping operations as we will describe below and in subsequent areas of the documentation. As you will see in later sections, you can find yourself working with hierarchically-indexed data without creating a `MultiIndex` explicitly yourself. However, when loading data from a file, you may wish to generate your own `MultiIndex` when preparing the data set."
   ]
  },
  {
   "cell_type": "markdown",
   "metadata": {},
   "source": [
    "### Reconstructing the level labels"
   ]
  },
  {
   "cell_type": "markdown",
   "metadata": {},
   "source": [
    "The method `get_level_values()` will return a vector of the labels for each location at a particular level."
   ]
  },
  {
   "cell_type": "code",
   "execution_count": 20,
   "metadata": {},
   "outputs": [
    {
     "data": {
      "text/plain": [
       "Index(['국고', '국고', '산금', '산금', '중금', '중금', '시은', '시은'], dtype='object', name='first')"
      ]
     },
     "execution_count": 20,
     "metadata": {},
     "output_type": "execute_result"
    }
   ],
   "source": [
    "index.get_level_values(0)"
   ]
  },
  {
   "cell_type": "code",
   "execution_count": 21,
   "metadata": {},
   "outputs": [
    {
     "data": {
      "text/plain": [
       "Index(['단기', '장기', '단기', '장기', '단기', '장기', '단기', '장기'], dtype='object', name='second')"
      ]
     },
     "execution_count": 21,
     "metadata": {},
     "output_type": "execute_result"
    }
   ],
   "source": [
    "index.get_level_values(1)"
   ]
  },
  {
   "cell_type": "code",
   "execution_count": 22,
   "metadata": {},
   "outputs": [
    {
     "data": {
      "text/plain": [
       "Index(['단기', '장기', '단기', '장기', '단기', '장기', '단기', '장기'], dtype='object', name='second')"
      ]
     },
     "execution_count": 22,
     "metadata": {},
     "output_type": "execute_result"
    }
   ],
   "source": [
    "index.get_level_values('second')"
   ]
  },
  {
   "cell_type": "markdown",
   "metadata": {},
   "source": [
    "### Basic indexing on axis with MultiIndex"
   ]
  },
  {
   "cell_type": "markdown",
   "metadata": {},
   "source": [
    "One of the important features of hierarchical indexing is that you can select data by a “partial” label identifying a subgroup in the data. **Partial** selection “drops” levels of the hierarchical index in the result in a completely analogous way to selecting a column in a regular DataFrame:"
   ]
  },
  {
   "cell_type": "code",
   "execution_count": 24,
   "metadata": {},
   "outputs": [
    {
     "data": {
      "text/html": [
       "<div>\n",
       "<style scoped>\n",
       "    .dataframe tbody tr th:only-of-type {\n",
       "        vertical-align: middle;\n",
       "    }\n",
       "\n",
       "    .dataframe tbody tr th {\n",
       "        vertical-align: top;\n",
       "    }\n",
       "\n",
       "    .dataframe thead th {\n",
       "        text-align: right;\n",
       "    }\n",
       "</style>\n",
       "<table border=\"1\" class=\"dataframe\">\n",
       "  <thead>\n",
       "    <tr style=\"text-align: right;\">\n",
       "      <th>second</th>\n",
       "      <th>단기</th>\n",
       "      <th>장기</th>\n",
       "    </tr>\n",
       "  </thead>\n",
       "  <tbody>\n",
       "    <tr>\n",
       "      <td>A</td>\n",
       "      <td>-0.876667</td>\n",
       "      <td>0.966092</td>\n",
       "    </tr>\n",
       "    <tr>\n",
       "      <td>B</td>\n",
       "      <td>-0.503500</td>\n",
       "      <td>-0.880040</td>\n",
       "    </tr>\n",
       "    <tr>\n",
       "      <td>C</td>\n",
       "      <td>1.718268</td>\n",
       "      <td>2.243557</td>\n",
       "    </tr>\n",
       "  </tbody>\n",
       "</table>\n",
       "</div>"
      ],
      "text/plain": [
       "second        단기        장기\n",
       "A      -0.876667  0.966092\n",
       "B      -0.503500 -0.880040\n",
       "C       1.718268  2.243557"
      ]
     },
     "execution_count": 24,
     "metadata": {},
     "output_type": "execute_result"
    }
   ],
   "source": [
    "df['국고']"
   ]
  },
  {
   "cell_type": "code",
   "execution_count": 25,
   "metadata": {},
   "outputs": [
    {
     "data": {
      "text/html": [
       "<div>\n",
       "<style scoped>\n",
       "    .dataframe tbody tr th:only-of-type {\n",
       "        vertical-align: middle;\n",
       "    }\n",
       "\n",
       "    .dataframe tbody tr th {\n",
       "        vertical-align: top;\n",
       "    }\n",
       "\n",
       "    .dataframe thead th {\n",
       "        text-align: right;\n",
       "    }\n",
       "</style>\n",
       "<table border=\"1\" class=\"dataframe\">\n",
       "  <thead>\n",
       "    <tr style=\"text-align: right;\">\n",
       "      <th>second</th>\n",
       "      <th>단기</th>\n",
       "      <th>장기</th>\n",
       "    </tr>\n",
       "  </thead>\n",
       "  <tbody>\n",
       "    <tr>\n",
       "      <td>A</td>\n",
       "      <td>-0.876667</td>\n",
       "      <td>0.966092</td>\n",
       "    </tr>\n",
       "    <tr>\n",
       "      <td>B</td>\n",
       "      <td>-0.503500</td>\n",
       "      <td>-0.880040</td>\n",
       "    </tr>\n",
       "    <tr>\n",
       "      <td>C</td>\n",
       "      <td>1.718268</td>\n",
       "      <td>2.243557</td>\n",
       "    </tr>\n",
       "  </tbody>\n",
       "</table>\n",
       "</div>"
      ],
      "text/plain": [
       "second        단기        장기\n",
       "A      -0.876667  0.966092\n",
       "B      -0.503500 -0.880040\n",
       "C       1.718268  2.243557"
      ]
     },
     "execution_count": 25,
     "metadata": {},
     "output_type": "execute_result"
    }
   ],
   "source": [
    "df.loc[:, '국고']"
   ]
  },
  {
   "cell_type": "code",
   "execution_count": 26,
   "metadata": {},
   "outputs": [
    {
     "data": {
      "text/plain": [
       "A   -0.876667\n",
       "B   -0.503500\n",
       "C    1.718268\n",
       "Name: (국고, 단기), dtype: float64"
      ]
     },
     "execution_count": 26,
     "metadata": {},
     "output_type": "execute_result"
    }
   ],
   "source": [
    "df['국고','단기']"
   ]
  },
  {
   "cell_type": "code",
   "execution_count": 27,
   "metadata": {},
   "outputs": [
    {
     "data": {
      "text/plain": [
       "A   -0.876667\n",
       "B   -0.503500\n",
       "C    1.718268\n",
       "Name: (국고, 단기), dtype: float64"
      ]
     },
     "execution_count": 27,
     "metadata": {},
     "output_type": "execute_result"
    }
   ],
   "source": [
    "df[('국고','단기')]"
   ]
  },
  {
   "cell_type": "code",
   "execution_count": 28,
   "metadata": {},
   "outputs": [
    {
     "data": {
      "text/plain": [
       "국고  단기   -1.700901\n",
       "    장기   -0.185789\n",
       "산금  단기    0.286530\n",
       "    장기    1.896629\n",
       "중금  단기   -0.735264\n",
       "    장기    1.718560\n",
       "시은  단기    1.067562\n",
       "    장기   -0.682318\n",
       "dtype: float64"
      ]
     },
     "execution_count": 28,
     "metadata": {},
     "output_type": "execute_result"
    }
   ],
   "source": [
    "s"
   ]
  },
  {
   "cell_type": "code",
   "execution_count": 29,
   "metadata": {},
   "outputs": [
    {
     "data": {
      "text/plain": [
       "단기   -0.735264\n",
       "장기    1.718560\n",
       "dtype: float64"
      ]
     },
     "execution_count": 29,
     "metadata": {},
     "output_type": "execute_result"
    }
   ],
   "source": [
    "s['중금']"
   ]
  },
  {
   "cell_type": "markdown",
   "metadata": {},
   "source": [
    "See `Cross-section` with hierarchical index for how to select on a deeper level."
   ]
  },
  {
   "cell_type": "markdown",
   "metadata": {},
   "source": [
    "### Defined levels"
   ]
  },
  {
   "cell_type": "markdown",
   "metadata": {},
   "source": [
    "The MultiIndex keeps all the defined levels of an index, even if they are not actually used. When slicing an index, you may notice this. For example:"
   ]
  },
  {
   "cell_type": "code",
   "execution_count": 43,
   "metadata": {},
   "outputs": [
    {
     "data": {
      "text/plain": [
       "MultiIndex([('국고', '단기'),\n",
       "            ('국고', '장기'),\n",
       "            ('산금', '단기'),\n",
       "            ('산금', '장기'),\n",
       "            ('중금', '단기'),\n",
       "            ('중금', '장기'),\n",
       "            ('시은', '단기'),\n",
       "            ('시은', '장기')],\n",
       "           names=['first', 'second'])"
      ]
     },
     "execution_count": 43,
     "metadata": {},
     "output_type": "execute_result"
    }
   ],
   "source": [
    "df.columns"
   ]
  },
  {
   "cell_type": "code",
   "execution_count": 30,
   "metadata": {},
   "outputs": [
    {
     "data": {
      "text/plain": [
       "FrozenList([['국고', '산금', '시은', '중금'], ['단기', '장기']])"
      ]
     },
     "execution_count": 30,
     "metadata": {},
     "output_type": "execute_result"
    }
   ],
   "source": [
    "df.columns.levels # original MultiIndex의 레벨은?"
   ]
  },
  {
   "cell_type": "code",
   "execution_count": 34,
   "metadata": {},
   "outputs": [
    {
     "data": {
      "text/plain": [
       "FrozenList([['국고', '산금', '시은', '중금'], ['단기', '장기']])"
      ]
     },
     "execution_count": 34,
     "metadata": {},
     "output_type": "execute_result"
    }
   ],
   "source": [
    "df[['산금','국고']].columns.levels  # sliced 해도 MultiIndex는 본디 자기 자신을 기억함"
   ]
  },
  {
   "cell_type": "markdown",
   "metadata": {},
   "source": [
    "This is done to avoid a recomputation of the levels in order to make slicing highly performant. If you want to see only the used levels, you can use the `get_level_values()` method."
   ]
  },
  {
   "cell_type": "code",
   "execution_count": 38,
   "metadata": {},
   "outputs": [
    {
     "data": {
      "text/plain": [
       "FrozenList([['국고', '산금', '시은', '중금'], ['단기', '장기']])"
      ]
     },
     "execution_count": 38,
     "metadata": {},
     "output_type": "execute_result"
    }
   ],
   "source": [
    "df[['국고','산금']].columns.levels"
   ]
  },
  {
   "cell_type": "code",
   "execution_count": 39,
   "metadata": {},
   "outputs": [
    {
     "data": {
      "text/plain": [
       "array([('국고', '단기'), ('국고', '장기'), ('산금', '단기'), ('산금', '장기')],\n",
       "      dtype=object)"
      ]
     },
     "execution_count": 39,
     "metadata": {},
     "output_type": "execute_result"
    }
   ],
   "source": [
    "# to_numpy only used levels\n",
    "df[['국고','산금']].columns.to_numpy()"
   ]
  },
  {
   "cell_type": "code",
   "execution_count": 37,
   "metadata": {},
   "outputs": [
    {
     "data": {
      "text/plain": [
       "Index(['국고', '국고', '산금', '산금'], dtype='object', name='first')"
      ]
     },
     "execution_count": 37,
     "metadata": {},
     "output_type": "execute_result"
    }
   ],
   "source": [
    "# for a specific level\n",
    "df[['국고','산금']].columns.get_level_values(0)"
   ]
  },
  {
   "cell_type": "markdown",
   "metadata": {},
   "source": [
    "To reconstruct the MultiIndex with only the used levels, the `remove_unused_levels()` method may be used."
   ]
  },
  {
   "cell_type": "code",
   "execution_count": 40,
   "metadata": {},
   "outputs": [],
   "source": [
    "new_mi = df[['국고','산금']].columns.remove_unused_levels()"
   ]
  },
  {
   "cell_type": "code",
   "execution_count": 41,
   "metadata": {},
   "outputs": [
    {
     "data": {
      "text/plain": [
       "FrozenList([['국고', '산금'], ['단기', '장기']])"
      ]
     },
     "execution_count": 41,
     "metadata": {},
     "output_type": "execute_result"
    }
   ],
   "source": [
    "new_mi.levels"
   ]
  },
  {
   "cell_type": "markdown",
   "metadata": {},
   "source": [
    "### Data Alignment and using `reindex`"
   ]
  },
  {
   "cell_type": "markdown",
   "metadata": {},
   "source": [
    "Operations between differently-indexed objects having `MultiIndex` on the axes will work as you expect; data alignment will work the same as an Index of tuples:"
   ]
  },
  {
   "cell_type": "code",
   "execution_count": 49,
   "metadata": {},
   "outputs": [],
   "source": [
    "s = pd.Series(range(8), index=index)"
   ]
  },
  {
   "cell_type": "code",
   "execution_count": 50,
   "metadata": {},
   "outputs": [
    {
     "data": {
      "text/plain": [
       "first  second\n",
       "국고     단기        0\n",
       "       장기        1\n",
       "산금     단기        2\n",
       "       장기        3\n",
       "중금     단기        4\n",
       "       장기        5\n",
       "시은     단기        6\n",
       "       장기        7\n",
       "dtype: int64"
      ]
     },
     "execution_count": 50,
     "metadata": {},
     "output_type": "execute_result"
    }
   ],
   "source": [
    "s"
   ]
  },
  {
   "cell_type": "code",
   "execution_count": 53,
   "metadata": {},
   "outputs": [
    {
     "data": {
      "text/plain": [
       "first  second\n",
       "국고     단기        0\n",
       "       장기        1\n",
       "산금     단기        2\n",
       "       장기        3\n",
       "중금     단기        4\n",
       "       장기        5\n",
       "dtype: int64"
      ]
     },
     "execution_count": 53,
     "metadata": {},
     "output_type": "execute_result"
    }
   ],
   "source": [
    "s[:-2]"
   ]
  },
  {
   "cell_type": "code",
   "execution_count": 54,
   "metadata": {},
   "outputs": [
    {
     "data": {
      "text/plain": [
       "first  second\n",
       "국고     단기         0.0\n",
       "       장기         2.0\n",
       "산금     단기         4.0\n",
       "       장기         6.0\n",
       "시은     단기         NaN\n",
       "       장기         NaN\n",
       "중금     단기         8.0\n",
       "       장기        10.0\n",
       "dtype: float64"
      ]
     },
     "execution_count": 54,
     "metadata": {},
     "output_type": "execute_result"
    }
   ],
   "source": [
    "s + s[:-2]"
   ]
  },
  {
   "cell_type": "code",
   "execution_count": 55,
   "metadata": {},
   "outputs": [
    {
     "data": {
      "text/plain": [
       "first  second\n",
       "국고     단기         0.0\n",
       "       장기         NaN\n",
       "산금     단기         4.0\n",
       "       장기         NaN\n",
       "시은     단기        12.0\n",
       "       장기         NaN\n",
       "중금     단기         8.0\n",
       "       장기         NaN\n",
       "dtype: float64"
      ]
     },
     "execution_count": 55,
     "metadata": {},
     "output_type": "execute_result"
    }
   ],
   "source": [
    "s + s[::2]"
   ]
  },
  {
   "cell_type": "markdown",
   "metadata": {},
   "source": [
    "The `reindex()` method of Series/DataFrame can be called with another MultiIndex, mi, or even a list or array of tuples:"
   ]
  },
  {
   "cell_type": "code",
   "execution_count": 57,
   "metadata": {},
   "outputs": [
    {
     "data": {
      "text/plain": [
       "first  second\n",
       "국고     단기        0\n",
       "       장기        1\n",
       "산금     단기        2\n",
       "dtype: int64"
      ]
     },
     "execution_count": 57,
     "metadata": {},
     "output_type": "execute_result"
    }
   ],
   "source": [
    "s.reindex(index[:3])"
   ]
  },
  {
   "cell_type": "code",
   "execution_count": 58,
   "metadata": {},
   "outputs": [
    {
     "data": {
      "text/plain": [
       "first  second\n",
       "국고     장기        1\n",
       "산금     장기        3\n",
       "시은     장기        7\n",
       "중금     단기        4\n",
       "dtype: int64"
      ]
     },
     "execution_count": 58,
     "metadata": {},
     "output_type": "execute_result"
    }
   ],
   "source": [
    "s.reindex( [ ('국고', '장기'), ('산금','장기'), ('시은','장기'), ('중금','단기') ] )"
   ]
  },
  {
   "cell_type": "markdown",
   "metadata": {},
   "source": [
    "## 2. Advanced indexing with hierarchical index"
   ]
  },
  {
   "cell_type": "markdown",
   "metadata": {},
   "source": [
    "Syntactically integrating `MultiIndex` in advanced indexing with `.loc` is a bit challenging, but we’ve made every effort to do so. In general, MultiIndex keys take the form of tuples. For example, the following works as you would expect:"
   ]
  },
  {
   "cell_type": "code",
   "execution_count": 59,
   "metadata": {},
   "outputs": [],
   "source": [
    "df = df.T"
   ]
  },
  {
   "cell_type": "code",
   "execution_count": 60,
   "metadata": {},
   "outputs": [
    {
     "data": {
      "text/html": [
       "<div>\n",
       "<style scoped>\n",
       "    .dataframe tbody tr th:only-of-type {\n",
       "        vertical-align: middle;\n",
       "    }\n",
       "\n",
       "    .dataframe tbody tr th {\n",
       "        vertical-align: top;\n",
       "    }\n",
       "\n",
       "    .dataframe thead th {\n",
       "        text-align: right;\n",
       "    }\n",
       "</style>\n",
       "<table border=\"1\" class=\"dataframe\">\n",
       "  <thead>\n",
       "    <tr style=\"text-align: right;\">\n",
       "      <th></th>\n",
       "      <th></th>\n",
       "      <th>A</th>\n",
       "      <th>B</th>\n",
       "      <th>C</th>\n",
       "    </tr>\n",
       "    <tr>\n",
       "      <th>first</th>\n",
       "      <th>second</th>\n",
       "      <th></th>\n",
       "      <th></th>\n",
       "      <th></th>\n",
       "    </tr>\n",
       "  </thead>\n",
       "  <tbody>\n",
       "    <tr>\n",
       "      <td rowspan=\"2\" valign=\"top\">국고</td>\n",
       "      <td>단기</td>\n",
       "      <td>-0.876667</td>\n",
       "      <td>-0.503500</td>\n",
       "      <td>1.718268</td>\n",
       "    </tr>\n",
       "    <tr>\n",
       "      <td>장기</td>\n",
       "      <td>0.966092</td>\n",
       "      <td>-0.880040</td>\n",
       "      <td>2.243557</td>\n",
       "    </tr>\n",
       "    <tr>\n",
       "      <td rowspan=\"2\" valign=\"top\">산금</td>\n",
       "      <td>단기</td>\n",
       "      <td>1.120699</td>\n",
       "      <td>-0.206314</td>\n",
       "      <td>0.545362</td>\n",
       "    </tr>\n",
       "    <tr>\n",
       "      <td>장기</td>\n",
       "      <td>-0.445573</td>\n",
       "      <td>-1.258661</td>\n",
       "      <td>2.008662</td>\n",
       "    </tr>\n",
       "    <tr>\n",
       "      <td rowspan=\"2\" valign=\"top\">중금</td>\n",
       "      <td>단기</td>\n",
       "      <td>-0.725877</td>\n",
       "      <td>-1.345779</td>\n",
       "      <td>0.121040</td>\n",
       "    </tr>\n",
       "    <tr>\n",
       "      <td>장기</td>\n",
       "      <td>-0.829777</td>\n",
       "      <td>-0.528776</td>\n",
       "      <td>-0.198562</td>\n",
       "    </tr>\n",
       "    <tr>\n",
       "      <td rowspan=\"2\" valign=\"top\">시은</td>\n",
       "      <td>단기</td>\n",
       "      <td>1.980688</td>\n",
       "      <td>-1.555450</td>\n",
       "      <td>0.253164</td>\n",
       "    </tr>\n",
       "    <tr>\n",
       "      <td>장기</td>\n",
       "      <td>-2.445532</td>\n",
       "      <td>-0.741435</td>\n",
       "      <td>0.085287</td>\n",
       "    </tr>\n",
       "  </tbody>\n",
       "</table>\n",
       "</div>"
      ],
      "text/plain": [
       "                     A         B         C\n",
       "first second                              \n",
       "국고    단기     -0.876667 -0.503500  1.718268\n",
       "      장기      0.966092 -0.880040  2.243557\n",
       "산금    단기      1.120699 -0.206314  0.545362\n",
       "      장기     -0.445573 -1.258661  2.008662\n",
       "중금    단기     -0.725877 -1.345779  0.121040\n",
       "      장기     -0.829777 -0.528776 -0.198562\n",
       "시은    단기      1.980688 -1.555450  0.253164\n",
       "      장기     -2.445532 -0.741435  0.085287"
      ]
     },
     "execution_count": 60,
     "metadata": {},
     "output_type": "execute_result"
    }
   ],
   "source": [
    "df"
   ]
  },
  {
   "cell_type": "code",
   "execution_count": 62,
   "metadata": {},
   "outputs": [
    {
     "data": {
      "text/plain": [
       "A    0.966092\n",
       "B   -0.880040\n",
       "Name: (국고, 장기), dtype: float64"
      ]
     },
     "execution_count": 62,
     "metadata": {},
     "output_type": "execute_result"
    }
   ],
   "source": [
    "df.loc[('국고', '장기'), ['A', 'B']]"
   ]
  },
  {
   "cell_type": "markdown",
   "metadata": {},
   "source": [
    "Note that `df.loc['bar', 'two']` would also work in this example, but this shorthand notation can lead to ambiguity in general.\n",
    "\n",
    "If you also want to index a specific column with .loc, you must use a tuple like this:"
   ]
  },
  {
   "cell_type": "code",
   "execution_count": 63,
   "metadata": {},
   "outputs": [],
   "source": [
    "df.columns = ['A','B','장기']"
   ]
  },
  {
   "cell_type": "code",
   "execution_count": 67,
   "metadata": {},
   "outputs": [
    {
     "data": {
      "text/plain": [
       "A     0.966092\n",
       "B    -0.880040\n",
       "장기    2.243557\n",
       "Name: (국고, 장기), dtype: float64"
      ]
     },
     "execution_count": 67,
     "metadata": {},
     "output_type": "execute_result"
    }
   ],
   "source": [
    "df.loc['국고','장기'] # ambiguous"
   ]
  },
  {
   "cell_type": "markdown",
   "metadata": {},
   "source": [
    "You don’t have to specify all levels of the `MultiIndex` by passing only the first elements of the tuple. For example, you can use “partial” indexing to get all elements with bar in the first level as follows:\n",
    "\n",
    "`df.loc[‘bar’]`\n",
    "\n",
    "This is a shortcut for the slightly more verbose notation `df.loc[('bar',),]` (equivalent to `df.loc['bar',]` in this example).\n",
    "\n",
    "“Partial” slicing also works quite nicely."
   ]
  },
  {
   "cell_type": "code",
   "execution_count": 73,
   "metadata": {},
   "outputs": [],
   "source": [
    "iters = [['KRW','USD','CNY','JPY', 'EUR'], ['sell','buy']]"
   ]
  },
  {
   "cell_type": "code",
   "execution_count": 74,
   "metadata": {},
   "outputs": [],
   "source": [
    "mi = pd.MultiIndex.from_product(iters, names=['ccy','position'])"
   ]
  },
  {
   "cell_type": "code",
   "execution_count": 76,
   "metadata": {},
   "outputs": [],
   "source": [
    "df = pd.DataFrame(np.random.randn(10,3), index=mi, columns=list('ABC'))"
   ]
  },
  {
   "cell_type": "code",
   "execution_count": 94,
   "metadata": {},
   "outputs": [
    {
     "data": {
      "text/html": [
       "<div>\n",
       "<style scoped>\n",
       "    .dataframe tbody tr th:only-of-type {\n",
       "        vertical-align: middle;\n",
       "    }\n",
       "\n",
       "    .dataframe tbody tr th {\n",
       "        vertical-align: top;\n",
       "    }\n",
       "\n",
       "    .dataframe thead th {\n",
       "        text-align: right;\n",
       "    }\n",
       "</style>\n",
       "<table border=\"1\" class=\"dataframe\">\n",
       "  <thead>\n",
       "    <tr style=\"text-align: right;\">\n",
       "      <th></th>\n",
       "      <th>A</th>\n",
       "      <th>B</th>\n",
       "      <th>C</th>\n",
       "    </tr>\n",
       "    <tr>\n",
       "      <th>position</th>\n",
       "      <th></th>\n",
       "      <th></th>\n",
       "      <th></th>\n",
       "    </tr>\n",
       "  </thead>\n",
       "  <tbody>\n",
       "    <tr>\n",
       "      <td>sell</td>\n",
       "      <td>0.099013</td>\n",
       "      <td>0.048897</td>\n",
       "      <td>1.472745</td>\n",
       "    </tr>\n",
       "    <tr>\n",
       "      <td>buy</td>\n",
       "      <td>1.026882</td>\n",
       "      <td>-0.559019</td>\n",
       "      <td>0.152572</td>\n",
       "    </tr>\n",
       "  </tbody>\n",
       "</table>\n",
       "</div>"
      ],
      "text/plain": [
       "                 A         B         C\n",
       "position                              \n",
       "sell      0.099013  0.048897  1.472745\n",
       "buy       1.026882 -0.559019  0.152572"
      ]
     },
     "execution_count": 94,
     "metadata": {},
     "output_type": "execute_result"
    }
   ],
   "source": [
    "df.loc['KRW']"
   ]
  },
  {
   "cell_type": "code",
   "execution_count": 95,
   "metadata": {},
   "outputs": [
    {
     "name": "stderr",
     "output_type": "stream",
     "text": [
      "C:\\Anaconda3\\lib\\site-packages\\pandas\\core\\indexing.py:1418: PerformanceWarning: indexing past lexsort depth may impact performance.\n",
      "  return self._getitem_tuple(key)\n"
     ]
    },
    {
     "data": {
      "text/html": [
       "<div>\n",
       "<style scoped>\n",
       "    .dataframe tbody tr th:only-of-type {\n",
       "        vertical-align: middle;\n",
       "    }\n",
       "\n",
       "    .dataframe tbody tr th {\n",
       "        vertical-align: top;\n",
       "    }\n",
       "\n",
       "    .dataframe thead th {\n",
       "        text-align: right;\n",
       "    }\n",
       "</style>\n",
       "<table border=\"1\" class=\"dataframe\">\n",
       "  <thead>\n",
       "    <tr style=\"text-align: right;\">\n",
       "      <th></th>\n",
       "      <th>A</th>\n",
       "      <th>B</th>\n",
       "      <th>C</th>\n",
       "    </tr>\n",
       "    <tr>\n",
       "      <th>position</th>\n",
       "      <th></th>\n",
       "      <th></th>\n",
       "      <th></th>\n",
       "    </tr>\n",
       "  </thead>\n",
       "  <tbody>\n",
       "    <tr>\n",
       "      <td>sell</td>\n",
       "      <td>0.099013</td>\n",
       "      <td>0.048897</td>\n",
       "      <td>1.472745</td>\n",
       "    </tr>\n",
       "    <tr>\n",
       "      <td>buy</td>\n",
       "      <td>1.026882</td>\n",
       "      <td>-0.559019</td>\n",
       "      <td>0.152572</td>\n",
       "    </tr>\n",
       "  </tbody>\n",
       "</table>\n",
       "</div>"
      ],
      "text/plain": [
       "                 A         B         C\n",
       "position                              \n",
       "sell      0.099013  0.048897  1.472745\n",
       "buy       1.026882 -0.559019  0.152572"
      ]
     },
     "execution_count": 95,
     "metadata": {},
     "output_type": "execute_result"
    }
   ],
   "source": [
    "df.loc[('KRW',),]"
   ]
  },
  {
   "cell_type": "code",
   "execution_count": 96,
   "metadata": {},
   "outputs": [
    {
     "name": "stderr",
     "output_type": "stream",
     "text": [
      "C:\\Anaconda3\\lib\\site-packages\\ipykernel_launcher.py:1: PerformanceWarning: indexing past lexsort depth may impact performance.\n",
      "  \"\"\"Entry point for launching an IPython kernel.\n"
     ]
    },
    {
     "data": {
      "text/html": [
       "<div>\n",
       "<style scoped>\n",
       "    .dataframe tbody tr th:only-of-type {\n",
       "        vertical-align: middle;\n",
       "    }\n",
       "\n",
       "    .dataframe tbody tr th {\n",
       "        vertical-align: top;\n",
       "    }\n",
       "\n",
       "    .dataframe thead th {\n",
       "        text-align: right;\n",
       "    }\n",
       "</style>\n",
       "<table border=\"1\" class=\"dataframe\">\n",
       "  <thead>\n",
       "    <tr style=\"text-align: right;\">\n",
       "      <th></th>\n",
       "      <th>A</th>\n",
       "      <th>B</th>\n",
       "      <th>C</th>\n",
       "    </tr>\n",
       "    <tr>\n",
       "      <th>position</th>\n",
       "      <th></th>\n",
       "      <th></th>\n",
       "      <th></th>\n",
       "    </tr>\n",
       "  </thead>\n",
       "  <tbody>\n",
       "    <tr>\n",
       "      <td>sell</td>\n",
       "      <td>0.099013</td>\n",
       "      <td>0.048897</td>\n",
       "      <td>1.472745</td>\n",
       "    </tr>\n",
       "    <tr>\n",
       "      <td>buy</td>\n",
       "      <td>1.026882</td>\n",
       "      <td>-0.559019</td>\n",
       "      <td>0.152572</td>\n",
       "    </tr>\n",
       "  </tbody>\n",
       "</table>\n",
       "</div>"
      ],
      "text/plain": [
       "                 A         B         C\n",
       "position                              \n",
       "sell      0.099013  0.048897  1.472745\n",
       "buy       1.026882 -0.559019  0.152572"
      ]
     },
     "execution_count": 96,
     "metadata": {},
     "output_type": "execute_result"
    }
   ],
   "source": [
    "df.loc['KRW',]"
   ]
  },
  {
   "cell_type": "code",
   "execution_count": null,
   "metadata": {},
   "outputs": [],
   "source": []
  }
 ],
 "metadata": {
  "kernelspec": {
   "display_name": "Python 3",
   "language": "python",
   "name": "python3"
  },
  "language_info": {
   "codemirror_mode": {
    "name": "ipython",
    "version": 3
   },
   "file_extension": ".py",
   "mimetype": "text/x-python",
   "name": "python",
   "nbconvert_exporter": "python",
   "pygments_lexer": "ipython3",
   "version": "3.7.4"
  }
 },
 "nbformat": 4,
 "nbformat_minor": 4
}
